{
 "cells": [
  {
   "cell_type": "code",
   "execution_count": null,
   "id": "ebde4594",
   "metadata": {},
   "outputs": [
    {
     "name": "stdout",
     "output_type": "stream",
     "text": [
      "Epoch 01 — Train MSE: 0.0454\n",
      "Epoch 02 — Train MSE: 0.0157\n",
      "Epoch 03 — Train MSE: 0.0153\n",
      "Epoch 04 — Train MSE: 0.0146\n"
     ]
    }
   ],
   "source": [
    "import random\n",
    "import numpy as np\n",
    "import torch\n",
    "import torch.nn as nn\n",
    "import torch.optim as optim\n",
    "from torch.utils.data import Dataset, DataLoader\n",
    "from torch.nn.utils.rnn import pack_padded_sequence, pad_packed_sequence\n",
    "import matplotlib.pyplot as plt\n",
    "from joblib import load, dump\n",
    "from sklearn.metrics import mean_squared_error, mean_absolute_error\n",
    "import pandas as pd\n",
    "\n",
    "X_train, y_train, t_train = load('train_set.joblib')\n",
    "X_test,  y_test,  t_test  = load('test_set.joblib')\n",
    "activity_scaler           = load('activity_scaler.joblib')\n",
    "\n",
    "train_df = X_train.copy()\n",
    "train_df['y'] = y_train.values\n",
    "groups   = train_df.groupby('patient_id', sort=False)\n",
    "\n",
    "class PatientSeriesDataset(Dataset):\n",
    "    def __init__(self, grouped_df):\n",
    "        self.samples = []\n",
    "        for pid, grp in grouped_df:\n",
    "            feats = grp.drop(columns=['patient_id','y','prev_act']).values.astype(np.float32)\n",
    "            target = grp['y'].values[-1].astype(np.float32)\n",
    "            # input = all but last, target = last\n",
    "            self.samples.append((torch.from_numpy(feats[:-1]), torch.tensor(target)))\n",
    "    def __len__(self):\n",
    "        return len(self.samples)\n",
    "    def __getitem__(self, idx):\n",
    "        return self.samples[idx]\n",
    "\n",
    "def collate_fn(batch):\n",
    "    seqs, targets = zip(*batch)\n",
    "    lengths = [s.size(0) for s in seqs]\n",
    "    padded  = nn.utils.rnn.pad_sequence(seqs, batch_first=True)\n",
    "    return padded, torch.stack(targets), torch.tensor(lengths)\n",
    "\n",
    "train_ds     = PatientSeriesDataset(groups)\n",
    "train_loader = DataLoader(train_ds, batch_size=8, shuffle=True, collate_fn=collate_fn)\n",
    "\n",
    "\n",
    "class SimpleRNN(nn.Module):\n",
    "    def __init__(self, input_size, hidden_size=32, num_layers=1):\n",
    "        super().__init__()\n",
    "        self.rnn = nn.RNN(input_size, hidden_size, num_layers, batch_first=True)\n",
    "        self.fc  = nn.Linear(hidden_size, 1)\n",
    "    def forward(self, x, lengths):\n",
    "        packed_in  = pack_padded_sequence(x, lengths, batch_first=True, enforce_sorted=False)\n",
    "        packed_out, _ = self.rnn(packed_in)\n",
    "        out, _    = pad_packed_sequence(packed_out, batch_first=True)\n",
    "        # extract last valid hidden state for each sequence\n",
    "        idx = (lengths - 1).view(-1,1,1).expand(-1,1,out.size(2))\n",
    "        last = out.gather(1, idx).squeeze(1)  # (batch, hidden_size)\n",
    "        return self.fc(last).squeeze(1)       # (batch,)\n",
    "\n",
    "n_feats  = X_train.drop(columns=['patient_id','prev_act']).shape[1]\n",
    "model    = SimpleRNN(input_size=n_feats)\n",
    "criterion = nn.MSELoss()\n",
    "optimizer = optim.Adam(model.parameters(), lr=1e-3)\n",
    "\n",
    "\n",
    "for epoch in range(1, 5):\n",
    "    model.train()\n",
    "    total_loss = 0.0\n",
    "    for seqs, targets, lengths in train_loader:\n",
    "        optimizer.zero_grad()\n",
    "        preds = model(seqs, lengths)\n",
    "        loss  = criterion(preds, targets)\n",
    "        loss.backward()\n",
    "        optimizer.step()\n",
    "        total_loss += loss.item()\n",
    "    print(f\"Epoch {epoch:02d} — Train MSE: {total_loss/len(train_loader):.4f}\")\n",
    "\n"
   ]
  },
  {
   "cell_type": "code",
   "execution_count": null,
   "id": "44042907",
   "metadata": {},
   "outputs": [],
   "source": []
  }
 ],
 "metadata": {
  "kernelspec": {
   "display_name": "base",
   "language": "python",
   "name": "python3"
  },
  "language_info": {
   "codemirror_mode": {
    "name": "ipython",
    "version": 3
   },
   "file_extension": ".py",
   "mimetype": "text/x-python",
   "name": "python",
   "nbconvert_exporter": "python",
   "pygments_lexer": "ipython3",
   "version": "3.13.5"
  }
 },
 "nbformat": 4,
 "nbformat_minor": 5
}
