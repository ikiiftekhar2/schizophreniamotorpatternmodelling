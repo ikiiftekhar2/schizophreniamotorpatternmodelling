{
 "cells": [
  {
   "cell_type": "code",
   "execution_count": 2,
   "metadata": {},
   "outputs": [
    {
     "data": {
      "text/plain": [
       "['test_set.joblib']"
      ]
     },
     "execution_count": 2,
     "metadata": {},
     "output_type": "execute_result"
    }
   ],
   "source": [
    "import os\n",
    "import pandas as pd\n",
    "from sklearn.preprocessing import LabelEncoder, MinMaxScaler\n",
    "from joblib import dump\n",
    "\n",
    "INFO_CSV  = \"OBF-Psychiatric-Dataset/schizophrenia-info.csv\"\n",
    "TS_FOLDER = \"OBF-Psychiatric-Dataset/schizophrenia\"\n",
    "\n",
    "df_info = (\n",
    "    pd.read_csv(INFO_CSV)\n",
    "      .rename(columns={'number': 'patient_id'})\n",
    ")\n",
    "df_info['bprs'] = pd.to_numeric(df_info['bprs'], errors='coerce').fillna(0)\n",
    "df_info = df_info.drop(columns=['acc_time'])\n",
    "\n",
    "\n",
    "categorical_cols = ['gender', 'age', 'schtype', 'migraine', 'cloz', 'antipsych', 'moodst']\n",
    "encoders = {}\n",
    "for col in categorical_cols:\n",
    "    le = LabelEncoder()\n",
    "    df_info[col] = le.fit_transform(df_info[col].astype(str))\n",
    "    encoders[col] = dict(zip(le.classes_, le.transform(le.classes_)))\n",
    "dump(encoders, 'encoders.joblib')\n",
    "\n",
    "\n",
    "\n",
    "records = []\n",
    "for _, meta in df_info.set_index('patient_id').iterrows():\n",
    "    pid = meta.name\n",
    "    ts = (\n",
    "        pd.read_csv(os.path.join(TS_FOLDER, f\"{pid}.csv\"), parse_dates=['timestamp'])\n",
    "          [['timestamp', 'activity']]\n",
    "          .assign(prev_act=lambda d: d['activity'].shift(1).fillna(0))\n",
    "    )\n",
    "    for _, row in ts.iterrows():\n",
    "        rec = meta.to_dict()\n",
    "        rec.update({\n",
    "            'patient_id': pid,\n",
    "            'timestamp':    row['timestamp'],\n",
    "            'prev_act':     row['prev_act'],\n",
    "            'activity':     row['activity'],\n",
    "        })\n",
    "        records.append(rec)\n",
    "\n",
    "df_model = pd.DataFrame(records)\n",
    "\n",
    "\n",
    "numeric_feats = ['days', 'bprs', 'prev_act']\n",
    "feature_scaler = MinMaxScaler()\n",
    "df_model[numeric_feats] = feature_scaler.fit_transform(df_model[numeric_feats])\n",
    "dump(feature_scaler, 'feature_scaler.joblib')\n",
    "\n",
    "target_scaler = MinMaxScaler()\n",
    "df_model[['activity']] = target_scaler.fit_transform(df_model[['activity']])\n",
    "dump(target_scaler, 'activity_scaler.joblib')\n",
    "\n",
    "\n",
    "df_model = df_model.sort_values(['patient_id', 'timestamp'])\n",
    "train_parts, val_parts, test_parts = [], [], []\n",
    "\n",
    "for pid, group in df_model.groupby('patient_id', sort=False):\n",
    "    n = len(group)\n",
    "    n_train = int(n * 0.70)\n",
    "    n_val   = int(n * 0.15)\n",
    "    train_parts.append( group.iloc[:n_train] )\n",
    "    val_parts.append(   group.iloc[n_train:n_train + n_val] )\n",
    "    test_parts.append(  group.iloc[n_train + n_val:] )\n",
    "\n",
    "train_df = pd.concat(train_parts)\n",
    "val_df   = pd.concat(val_parts)\n",
    "test_df  = pd.concat(test_parts)\n",
    "\n",
    "\n",
    "def split_xy_ts(df):\n",
    "    ts = df['timestamp']\n",
    "    y  = df['activity']\n",
    "    X  = df.drop(columns=['activity', 'timestamp'])\n",
    "    return X, y, ts\n",
    "\n",
    "X_train, y_train, t_train = split_xy_ts(train_df)\n",
    "X_val,   y_val,   t_val   = split_xy_ts(val_df)\n",
    "X_test,  y_test,  t_test  = split_xy_ts(test_df)\n",
    "\n",
    "dump((X_train, y_train, t_train), 'train_set.joblib')\n",
    "dump((X_val,   y_val,   t_val),   'val_set.joblib')\n",
    "dump((X_test,  y_test,  t_test),  'test_set.joblib')\n"
   ]
  },
  {
   "cell_type": "code",
   "execution_count": null,
   "metadata": {},
   "outputs": [],
   "source": []
  }
 ],
 "metadata": {
  "kernelspec": {
   "display_name": "base",
   "language": "python",
   "name": "python3"
  },
  "language_info": {
   "codemirror_mode": {
    "name": "ipython",
    "version": 3
   },
   "file_extension": ".py",
   "mimetype": "text/x-python",
   "name": "python",
   "nbconvert_exporter": "python",
   "pygments_lexer": "ipython3",
   "version": "3.13.5"
  }
 },
 "nbformat": 4,
 "nbformat_minor": 2
}
